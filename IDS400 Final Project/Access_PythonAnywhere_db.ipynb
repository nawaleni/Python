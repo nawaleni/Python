{
 "cells": [
  {
   "cell_type": "markdown",
   "metadata": {},
   "source": [
    "# Imports"
   ]
  },
  {
   "cell_type": "code",
   "execution_count": 2,
   "metadata": {
    "collapsed": true
   },
   "outputs": [],
   "source": [
    "import pandas as pd\n",
    "import MySQLdb\n",
    "import sshtunnel"
   ]
  },
  {
   "cell_type": "markdown",
   "metadata": {},
   "source": [
    "# Please don't alter SQL code below to maintain db integrity"
   ]
  },
  {
   "cell_type": "code",
   "execution_count": 3,
   "metadata": {},
   "outputs": [],
   "source": [
    "sshtunnel.SSH_TIMEOUT = 5.0\n",
    "sshtunnel.TUNNEL_TIMEOUT = 5.0\n",
    "\n",
    "with sshtunnel.SSHTunnelForwarder(\n",
    "    ('ssh.pythonanywhere.com'),\n",
    "    ssh_username='jdmoore7', ssh_password='Py.Coder77$$',\n",
    "    remote_bind_address=('jdmoore7.mysql.pythonanywhere-services.com', 3306)\n",
    ") as tunnel:\n",
    "    connection = MySQLdb.connect(\n",
    "        user='jdmoore7', password='password13',\n",
    "        host='127.0.0.1', port=tunnel.local_bind_port,\n",
    "        database='jdmoore7$default',\n",
    "    )\n",
    "    c = connection.cursor()\n",
    "    c.execute(\"SELECT * FROM tweets\")\n",
    "    connection.close()\n",
    "\n",
    "rows = c.fetchall()\n",
    "twid = []\n",
    "content = []\n",
    "date = []\n",
    "usid = []\n",
    "followers = []\n",
    "retweet = []\n",
    "for eachRow in rows:\n",
    "\n",
    "    twid.append(eachRow[0])\n",
    "    content.append(eachRow[1])\n",
    "    date.append(eachRow[2])\n",
    "    usid.append(eachRow[3])\n",
    "    followers.append(eachRow[4])\n",
    "    retweet.append(eachRow[5])\n",
    "    \n",
    "d = {'tweet_id':twid, 'tweet':content, 'date':date, 'user_id':usid, 'follower_count':followers, 'retweet_count':retweet}\n",
    "df = pd.DataFrame(d)\n",
    "\n",
    "df.drop(df.index[0], inplace=True)\n",
    "\n",
    "df['date'] = pd.to_datetime(df['date'])\n",
    "\n",
    "cities = [\"Atlanta\", \"Austin\", \"Boston\", \"Chicago\", \"Columbus\", \"Dallas\", \"Denver\", \"Indianapolis\", \"Los Angeles\", \n",
    "\"Miami\", \" Montgomery\", \"Nashville\", \"Newark\", \"New York\", 'nyc', \"Virginia\", \"Philadelphia\", \"Pittsburgh\", \"Raleigh\", \n",
    "\"Toronto\", \"dc\", \"D.C.\", \"Arlington\"]\n",
    "\n",
    "def city(text):\n",
    "    for city in cities:\n",
    "        locations = []\n",
    "        if city.lower() in text.lower():\n",
    "            locations.append(city)\n",
    "            return locations[0]\n",
    "\n",
    "df['location'] = df['tweet'].apply(city)\n",
    "\n",
    "def alt(text):\n",
    "    locations = []\n",
    "    for city in cities:\n",
    "        if city.lower() in text.lower():\n",
    "            locations.append(city)\n",
    "            if len(locations)>1:\n",
    "                return locations[1]\n",
    "\n",
    "df['alt_location'] = df['tweet'].apply(alt)\n",
    "\n",
    "\n",
    "def rt(text):\n",
    "    if 'RT' in text:\n",
    "        return True\n",
    "    else:\n",
    "        return False\n",
    "\n",
    "df['is_retweet'] = df['tweet'].apply(rt)\n",
    "\n",
    "df[['follower_count', 'retweet_count']] = df[['follower_count', 'retweet_count']].astype(int)\n",
    "\n",
    "df.sort_values(['date'],ascending=False, inplace=True)"
   ]
  },
  {
   "cell_type": "markdown",
   "metadata": {},
   "source": [
    "# Number of tweets by city"
   ]
  },
  {
   "cell_type": "code",
   "execution_count": 4,
   "metadata": {},
   "outputs": [
    {
     "name": "stdout",
     "output_type": "stream",
     "text": [
      "Primary city mentions: \n",
      "dc              83\n",
      "Dallas          45\n",
      "Chicago         44\n",
      "Virginia        44\n",
      "Boston          26\n",
      "Toronto         19\n",
      "New York        19\n",
      "Pittsburgh      16\n",
      "Newark          16\n",
      "Austin          15\n",
      "Atlanta         14\n",
      "Arlington       13\n",
      "Columbus        13\n",
      "Miami           13\n",
      "D.C.            12\n",
      "Denver           8\n",
      "nyc              8\n",
      "Raleigh          4\n",
      "Los Angeles      2\n",
      " Montgomery      2\n",
      "Philadelphia     2\n",
      "Nashville        1\n",
      "Indianapolis     1\n",
      "Name: location, dtype: int64 \n",
      "\n",
      "Secondary city mentions: \n",
      "D.C.          22\n",
      "Virginia      21\n",
      "dc            13\n",
      "Arlington     10\n",
      "nyc            8\n",
      "New York       5\n",
      "Miami          4\n",
      "Newark         3\n",
      "Toronto        3\n",
      "Dallas         2\n",
      "Pittsburgh     1\n",
      "Nashville      1\n",
      "Austin         1\n",
      "Name: alt_location, dtype: int64 \n",
      "\n"
     ]
    }
   ],
   "source": [
    "print('Primary city mentions: ')\n",
    "print(df['location'].value_counts(),'\\n')\n",
    "print('Secondary city mentions: ')\n",
    "print(df['alt_location'].value_counts(),'\\n')"
   ]
  },
  {
   "cell_type": "markdown",
   "metadata": {},
   "source": [
    "# tweets by date"
   ]
  },
  {
   "cell_type": "code",
   "execution_count": null,
   "metadata": {
    "collapsed": true
   },
   "outputs": [],
   "source": [
    "df['date'].value_counts().plot()"
   ]
  }
 ],
 "metadata": {
  "kernelspec": {
   "display_name": "Python 3",
   "language": "python",
   "name": "python3"
  },
  "language_info": {
   "codemirror_mode": {
    "name": "ipython",
    "version": 3
   },
   "file_extension": ".py",
   "mimetype": "text/x-python",
   "name": "python",
   "nbconvert_exporter": "python",
   "pygments_lexer": "ipython3",
   "version": "3.6.5"
  }
 },
 "nbformat": 4,
 "nbformat_minor": 2
}
