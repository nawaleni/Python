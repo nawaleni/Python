{
 "cells": [
  {
   "cell_type": "code",
   "execution_count": 1,
   "metadata": {},
   "outputs": [],
   "source": [
    "import pandas as pd\n",
    "import numpy as np"
   ]
  },
  {
   "cell_type": "code",
   "execution_count": 3,
   "metadata": {},
   "outputs": [],
   "source": [
    "nasdaqFile = \"/users/nirmalanawale/nirmi/myworkspace/python/data/nasdaq.csv\"\n",
    "spFile = \"/users/nirmalanawale/nirmi/myworkspace/python/data/sp_500.csv\"\n",
    "googFile = \"/users/nirmalanawale/nirmi/myworkspace/python/data/goog.csv\"\n",
    "oilFile = \"/users/nirmalanawale/nirmi/myworkspace/python/data/uso.csv\"\n",
    "xomFile = \"/users/nirmalanawale/nirmi/myworkspace/python/data/xom.csv\""
   ]
  },
  {
   "cell_type": "code",
   "execution_count": 4,
   "metadata": {},
   "outputs": [],
   "source": [
    "data = pd.read_csv(googFile, sep = \",\", usecols =[0,6], names = [\"Date\", \"Price\"], header = 0)"
   ]
  },
  {
   "cell_type": "code",
   "execution_count": 5,
   "metadata": {},
   "outputs": [
    {
     "data": {
      "text/html": [
       "<div>\n",
       "<style scoped>\n",
       "    .dataframe tbody tr th:only-of-type {\n",
       "        vertical-align: middle;\n",
       "    }\n",
       "\n",
       "    .dataframe tbody tr th {\n",
       "        vertical-align: top;\n",
       "    }\n",
       "\n",
       "    .dataframe thead th {\n",
       "        text-align: right;\n",
       "    }\n",
       "</style>\n",
       "<table border=\"1\" class=\"dataframe\">\n",
       "  <thead>\n",
       "    <tr style=\"text-align: right;\">\n",
       "      <th></th>\n",
       "      <th>Date</th>\n",
       "      <th>Price</th>\n",
       "    </tr>\n",
       "  </thead>\n",
       "  <tbody>\n",
       "    <tr>\n",
       "      <th>0</th>\n",
       "      <td>2018-07-27</td>\n",
       "      <td>2130600</td>\n",
       "    </tr>\n",
       "    <tr>\n",
       "      <th>1</th>\n",
       "      <td>2018-07-30</td>\n",
       "      <td>1849900</td>\n",
       "    </tr>\n",
       "    <tr>\n",
       "      <th>2</th>\n",
       "      <td>2018-07-31</td>\n",
       "      <td>1644700</td>\n",
       "    </tr>\n",
       "    <tr>\n",
       "      <th>3</th>\n",
       "      <td>2018-08-01</td>\n",
       "      <td>1567200</td>\n",
       "    </tr>\n",
       "    <tr>\n",
       "      <th>4</th>\n",
       "      <td>2018-08-02</td>\n",
       "      <td>1531300</td>\n",
       "    </tr>\n",
       "  </tbody>\n",
       "</table>\n",
       "</div>"
      ],
      "text/plain": [
       "         Date    Price\n",
       "0  2018-07-27  2130600\n",
       "1  2018-07-30  1849900\n",
       "2  2018-07-31  1644700\n",
       "3  2018-08-01  1567200\n",
       "4  2018-08-02  1531300"
      ]
     },
     "execution_count": 5,
     "metadata": {},
     "output_type": "execute_result"
    }
   ],
   "source": [
    "data.head()"
   ]
  },
  {
   "cell_type": "code",
   "execution_count": 6,
   "metadata": {},
   "outputs": [],
   "source": [
    "#index is 0 based. Price[1:] -> 2nd element to last \n",
    "returns = np.array(data[\"Price\"][:-1] , np.float)/np.array(data[\"Price\"][1:], np.float) - 1"
   ]
  },
  {
   "cell_type": "code",
   "execution_count": 9,
   "metadata": {},
   "outputs": [],
   "source": [
    "data[\"Returns\"] = np.append(returns, np.nan)"
   ]
  },
  {
   "cell_type": "code",
   "execution_count": 14,
   "metadata": {},
   "outputs": [
    {
     "data": {
      "text/html": [
       "<div>\n",
       "<style scoped>\n",
       "    .dataframe tbody tr th:only-of-type {\n",
       "        vertical-align: middle;\n",
       "    }\n",
       "\n",
       "    .dataframe tbody tr th {\n",
       "        vertical-align: top;\n",
       "    }\n",
       "\n",
       "    .dataframe thead th {\n",
       "        text-align: right;\n",
       "    }\n",
       "</style>\n",
       "<table border=\"1\" class=\"dataframe\">\n",
       "  <thead>\n",
       "    <tr style=\"text-align: right;\">\n",
       "      <th></th>\n",
       "      <th>Date</th>\n",
       "      <th>Price</th>\n",
       "      <th>Returns</th>\n",
       "    </tr>\n",
       "    <tr>\n",
       "      <th>Date</th>\n",
       "      <th></th>\n",
       "      <th></th>\n",
       "      <th></th>\n",
       "    </tr>\n",
       "  </thead>\n",
       "  <tbody>\n",
       "    <tr>\n",
       "      <th>2018-07-27</th>\n",
       "      <td>2018-07-27</td>\n",
       "      <td>2130600</td>\n",
       "      <td>0.151738</td>\n",
       "    </tr>\n",
       "    <tr>\n",
       "      <th>2018-07-30</th>\n",
       "      <td>2018-07-30</td>\n",
       "      <td>1849900</td>\n",
       "      <td>0.124764</td>\n",
       "    </tr>\n",
       "    <tr>\n",
       "      <th>2018-07-31</th>\n",
       "      <td>2018-07-31</td>\n",
       "      <td>1644700</td>\n",
       "      <td>0.049451</td>\n",
       "    </tr>\n",
       "    <tr>\n",
       "      <th>2018-08-01</th>\n",
       "      <td>2018-08-01</td>\n",
       "      <td>1567200</td>\n",
       "      <td>0.023444</td>\n",
       "    </tr>\n",
       "    <tr>\n",
       "      <th>2018-08-02</th>\n",
       "      <td>2018-08-02</td>\n",
       "      <td>1531300</td>\n",
       "      <td>0.405378</td>\n",
       "    </tr>\n",
       "  </tbody>\n",
       "</table>\n",
       "</div>"
      ],
      "text/plain": [
       "                  Date    Price   Returns\n",
       "Date                                     \n",
       "2018-07-27  2018-07-27  2130600  0.151738\n",
       "2018-07-30  2018-07-30  1849900  0.124764\n",
       "2018-07-31  2018-07-31  1644700  0.049451\n",
       "2018-08-01  2018-08-01  1567200  0.023444\n",
       "2018-08-02  2018-08-02  1531300  0.405378"
      ]
     },
     "execution_count": 14,
     "metadata": {},
     "output_type": "execute_result"
    }
   ],
   "source": [
    "data.index = data[\"Date\"]\n",
    "data.head()"
   ]
  },
  {
   "cell_type": "code",
   "execution_count": 16,
   "metadata": {},
   "outputs": [],
   "source": [
    "def readFile(filename):\n",
    "    data = pd.read_csv(filename, sep = \",\", usecols =[0,6], names = [\"Date\", \"Price\"], header = 0)\n",
    "    returns = np.array(data[\"Price\"][:-1] , np.float)/np.array(data[\"Price\"][1:], np.float) - 1\n",
    "    data[\"Returns\"] = np.append(returns, np.nan)\n",
    "    data.index = data[\"Date\"]\n",
    "    return data\n",
    "    "
   ]
  },
  {
   "cell_type": "code",
   "execution_count": 17,
   "metadata": {},
   "outputs": [],
   "source": [
    "googData = readFile(googFile)\n",
    "nasdaqData = readFile(nasdaqFile)"
   ]
  },
  {
   "cell_type": "code",
   "execution_count": 24,
   "metadata": {},
   "outputs": [
    {
     "data": {
      "text/html": [
       "<div>\n",
       "<style scoped>\n",
       "    .dataframe tbody tr th:only-of-type {\n",
       "        vertical-align: middle;\n",
       "    }\n",
       "\n",
       "    .dataframe tbody tr th {\n",
       "        vertical-align: top;\n",
       "    }\n",
       "\n",
       "    .dataframe thead th {\n",
       "        text-align: right;\n",
       "    }\n",
       "</style>\n",
       "<table border=\"1\" class=\"dataframe\">\n",
       "  <thead>\n",
       "    <tr style=\"text-align: right;\">\n",
       "      <th></th>\n",
       "      <th>Date</th>\n",
       "      <th>Price</th>\n",
       "      <th>Returns</th>\n",
       "    </tr>\n",
       "    <tr>\n",
       "      <th>Date</th>\n",
       "      <th></th>\n",
       "      <th></th>\n",
       "      <th></th>\n",
       "    </tr>\n",
       "  </thead>\n",
       "  <tbody>\n",
       "    <tr>\n",
       "      <th>2018-10-22</th>\n",
       "      <td>2018-10-22</td>\n",
       "      <td>1514200</td>\n",
       "      <td>-0.180938</td>\n",
       "    </tr>\n",
       "    <tr>\n",
       "      <th>2018-10-23</th>\n",
       "      <td>2018-10-23</td>\n",
       "      <td>1848700</td>\n",
       "      <td>-0.067444</td>\n",
       "    </tr>\n",
       "    <tr>\n",
       "      <th>2018-10-24</th>\n",
       "      <td>2018-10-24</td>\n",
       "      <td>1982400</td>\n",
       "      <td>-0.221306</td>\n",
       "    </tr>\n",
       "    <tr>\n",
       "      <th>2018-10-25</th>\n",
       "      <td>2018-10-25</td>\n",
       "      <td>2545800</td>\n",
       "      <td>-0.391859</td>\n",
       "    </tr>\n",
       "    <tr>\n",
       "      <th>2018-10-26</th>\n",
       "      <td>2018-10-26</td>\n",
       "      <td>4186200</td>\n",
       "      <td>NaN</td>\n",
       "    </tr>\n",
       "  </tbody>\n",
       "</table>\n",
       "</div>"
      ],
      "text/plain": [
       "                  Date    Price   Returns\n",
       "Date                                     \n",
       "2018-10-22  2018-10-22  1514200 -0.180938\n",
       "2018-10-23  2018-10-23  1848700 -0.067444\n",
       "2018-10-24  2018-10-24  1982400 -0.221306\n",
       "2018-10-25  2018-10-25  2545800 -0.391859\n",
       "2018-10-26  2018-10-26  4186200       NaN"
      ]
     },
     "execution_count": 24,
     "metadata": {},
     "output_type": "execute_result"
    }
   ],
   "source": [
    "googData.tail()\n"
   ]
  },
  {
   "cell_type": "code",
   "execution_count": 25,
   "metadata": {},
   "outputs": [
    {
     "data": {
      "text/html": [
       "<div>\n",
       "<style scoped>\n",
       "    .dataframe tbody tr th:only-of-type {\n",
       "        vertical-align: middle;\n",
       "    }\n",
       "\n",
       "    .dataframe tbody tr th {\n",
       "        vertical-align: top;\n",
       "    }\n",
       "\n",
       "    .dataframe thead th {\n",
       "        text-align: right;\n",
       "    }\n",
       "</style>\n",
       "<table border=\"1\" class=\"dataframe\">\n",
       "  <thead>\n",
       "    <tr style=\"text-align: right;\">\n",
       "      <th></th>\n",
       "      <th>Date</th>\n",
       "      <th>Price</th>\n",
       "      <th>Returns</th>\n",
       "    </tr>\n",
       "    <tr>\n",
       "      <th>Date</th>\n",
       "      <th></th>\n",
       "      <th></th>\n",
       "      <th></th>\n",
       "    </tr>\n",
       "  </thead>\n",
       "  <tbody>\n",
       "    <tr>\n",
       "      <th>2018-10-22</th>\n",
       "      <td>2018-10-22</td>\n",
       "      <td>2282400000</td>\n",
       "      <td>-0.165735</td>\n",
       "    </tr>\n",
       "    <tr>\n",
       "      <th>2018-10-23</th>\n",
       "      <td>2018-10-23</td>\n",
       "      <td>2735820000</td>\n",
       "      <td>-0.068038</td>\n",
       "    </tr>\n",
       "    <tr>\n",
       "      <th>2018-10-24</th>\n",
       "      <td>2018-10-24</td>\n",
       "      <td>2935550000</td>\n",
       "      <td>0.070661</td>\n",
       "    </tr>\n",
       "    <tr>\n",
       "      <th>2018-10-25</th>\n",
       "      <td>2018-10-25</td>\n",
       "      <td>2741810000</td>\n",
       "      <td>-0.075206</td>\n",
       "    </tr>\n",
       "    <tr>\n",
       "      <th>2018-10-26</th>\n",
       "      <td>2018-10-26</td>\n",
       "      <td>2964780000</td>\n",
       "      <td>NaN</td>\n",
       "    </tr>\n",
       "  </tbody>\n",
       "</table>\n",
       "</div>"
      ],
      "text/plain": [
       "                  Date       Price   Returns\n",
       "Date                                        \n",
       "2018-10-22  2018-10-22  2282400000 -0.165735\n",
       "2018-10-23  2018-10-23  2735820000 -0.068038\n",
       "2018-10-24  2018-10-24  2935550000  0.070661\n",
       "2018-10-25  2018-10-25  2741810000 -0.075206\n",
       "2018-10-26  2018-10-26  2964780000       NaN"
      ]
     },
     "execution_count": 25,
     "metadata": {},
     "output_type": "execute_result"
    }
   ],
   "source": [
    "nasdaqData.tail()"
   ]
  },
  {
   "cell_type": "code",
   "execution_count": 29,
   "metadata": {},
   "outputs": [],
   "source": [
    "# x column data for regression in Python has to 1dimensional array of each element is array \n",
    "# here x = NASDAQ data returns\n",
    "# y = Google data Returns\n",
    "# we are also excluding last row, bcoz of NaN \n",
    "xData = nasdaqData[\"Returns\"][0:-1].values.reshape(-1,1)\n"
   ]
  },
  {
   "cell_type": "code",
   "execution_count": 32,
   "metadata": {},
   "outputs": [],
   "source": [
    "yData = googData[\"Returns\"][0:-1]"
   ]
  },
  {
   "cell_type": "code",
   "execution_count": 35,
   "metadata": {},
   "outputs": [
    {
     "data": {
      "text/plain": [
       "array([[ 0.01528406],\n",
       "       [-0.02352566],\n",
       "       [-0.01281734],\n",
       "       [ 0.06834671],\n",
       "       [ 0.03101006],\n",
       "       [-0.09805779],\n",
       "       [ 0.01846568],\n",
       "       [ 0.05256125],\n",
       "       [ 0.02700509],\n",
       "       [-0.02970151],\n",
       "       [ 0.09452315],\n",
       "       [-0.00162724],\n",
       "       [-0.16161192],\n",
       "       [ 0.15529871],\n",
       "       [ 0.07399832],\n",
       "       [ 0.08486318],\n",
       "       [-0.03829891],\n",
       "       [ 0.06394011],\n",
       "       [-0.11672491],\n",
       "       [-0.00355666],\n",
       "       [-0.18650528],\n",
       "       [ 0.18244532],\n",
       "       [ 0.03389562],\n",
       "       [-0.05830376],\n",
       "       [ 0.06028707],\n",
       "       [-0.147839  ],\n",
       "       [-0.141429  ],\n",
       "       [ 0.09629836],\n",
       "       [ 0.10356973],\n",
       "       [ 0.05139974],\n",
       "       [-0.12013671],\n",
       "       [-0.0092491 ],\n",
       "       [ 0.00997533],\n",
       "       [ 0.14013729],\n",
       "       [-0.10963426],\n",
       "       [-0.01460317],\n",
       "       [ 0.0747706 ],\n",
       "       [-0.05702293],\n",
       "       [-0.38298865],\n",
       "       [ 0.53403852],\n",
       "       [ 0.05604552],\n",
       "       [-0.00387022],\n",
       "       [ 0.11844559],\n",
       "       [-0.11625515],\n",
       "       [ 0.01783   ],\n",
       "       [-0.04522094],\n",
       "       [-0.21525729],\n",
       "       [-0.06938969],\n",
       "       [ 0.2250926 ],\n",
       "       [ 0.19345073],\n",
       "       [-0.08922181],\n",
       "       [-0.20091768],\n",
       "       [-0.01973695],\n",
       "       [ 0.18450811],\n",
       "       [ 0.23335272],\n",
       "       [-0.18085999],\n",
       "       [ 0.1093491 ],\n",
       "       [-0.07118364],\n",
       "       [ 0.00542212],\n",
       "       [ 0.10945496],\n",
       "       [-0.16573459],\n",
       "       [-0.06803836],\n",
       "       [ 0.07066135],\n",
       "       [-0.07520625]])"
      ]
     },
     "execution_count": 35,
     "metadata": {},
     "output_type": "execute_result"
    }
   ],
   "source": [
    "xData"
   ]
  },
  {
   "cell_type": "code",
   "execution_count": 34,
   "metadata": {},
   "outputs": [
    {
     "data": {
      "text/plain": [
       "Date\n",
       "2018-07-27    0.151738\n",
       "2018-07-30    0.124764\n",
       "2018-07-31    0.049451\n",
       "2018-08-01    0.023444\n",
       "2018-08-02    0.405378\n",
       "2018-08-03    0.007303\n",
       "2018-08-06   -0.275971\n",
       "2018-08-07    0.090272\n",
       "2018-08-08    0.627821\n",
       "2018-08-09   -0.240732\n",
       "2018-08-10    0.157186\n",
       "2018-08-13   -0.289296\n",
       "2018-08-14   -0.262850\n",
       "2018-08-15    0.361525\n",
       "2018-08-16   -0.033391\n",
       "2018-08-17    0.595774\n",
       "2018-08-20   -0.277704\n",
       "2018-08-21    0.358576\n",
       "2018-08-22   -0.105984\n",
       "2018-08-23    0.048595\n",
       "2018-08-24   -0.181354\n",
       "2018-08-27   -0.113267\n",
       "2018-08-28    0.003926\n",
       "2018-08-29   -0.024410\n",
       "2018-08-30   -0.267012\n",
       "2018-08-31   -0.007974\n",
       "2018-09-04   -0.111726\n",
       "2018-09-05    0.091501\n",
       "2018-09-06    0.347677\n",
       "2018-09-07    0.256321\n",
       "                ...   \n",
       "2018-09-14   -0.277459\n",
       "2018-09-17    0.085494\n",
       "2018-09-18    0.010240\n",
       "2018-09-19   -0.015372\n",
       "2018-09-20   -0.725350\n",
       "2018-09-21    2.466247\n",
       "2018-09-24    0.299990\n",
       "2018-09-25   -0.331396\n",
       "2018-09-26    0.159819\n",
       "2018-09-27   -0.086774\n",
       "2018-09-28    0.016942\n",
       "2018-10-01   -0.195687\n",
       "2018-10-02    0.343655\n",
       "2018-10-03   -0.431455\n",
       "2018-10-04    0.865659\n",
       "2018-10-05   -0.387135\n",
       "2018-10-08    0.476580\n",
       "2018-10-09   -0.510894\n",
       "2018-10-10   -0.092675\n",
       "2018-10-11    0.403417\n",
       "2018-10-12    0.531113\n",
       "2018-10-15   -0.288359\n",
       "2018-10-16    0.314408\n",
       "2018-10-17   -0.299499\n",
       "2018-10-18    0.652335\n",
       "2018-10-19   -0.162858\n",
       "2018-10-22   -0.180938\n",
       "2018-10-23   -0.067444\n",
       "2018-10-24   -0.221306\n",
       "2018-10-25   -0.391859\n",
       "Name: Returns, Length: 64, dtype: float64"
      ]
     },
     "execution_count": 34,
     "metadata": {},
     "output_type": "execute_result"
    }
   ],
   "source": [
    "yData"
   ]
  },
  {
   "cell_type": "code",
   "execution_count": 36,
   "metadata": {},
   "outputs": [],
   "source": [
    "from sklearn import datasets, linear_model"
   ]
  },
  {
   "cell_type": "code",
   "execution_count": 37,
   "metadata": {},
   "outputs": [],
   "source": [
    "good_googModel = linear_model.LinearRegression()"
   ]
  },
  {
   "cell_type": "code",
   "execution_count": 38,
   "metadata": {},
   "outputs": [
    {
     "data": {
      "text/plain": [
       "LinearRegression(copy_X=True, fit_intercept=True, n_jobs=1, normalize=False)"
      ]
     },
     "execution_count": 38,
     "metadata": {},
     "output_type": "execute_result"
    }
   ],
   "source": [
    "good_googModel.fit(xData, yData)"
   ]
  },
  {
   "cell_type": "code",
   "execution_count": 39,
   "metadata": {},
   "outputs": [
    {
     "data": {
      "text/plain": [
       "0.4641417372642398"
      ]
     },
     "execution_count": 39,
     "metadata": {},
     "output_type": "execute_result"
    }
   ],
   "source": [
    "# R-Sqaure value\n",
    "good_googModel.score(xData, yData)"
   ]
  },
  {
   "cell_type": "code",
   "execution_count": 40,
   "metadata": {},
   "outputs": [
    {
     "data": {
      "text/plain": [
       "array([2.20629884])"
      ]
     },
     "execution_count": 40,
     "metadata": {},
     "output_type": "execute_result"
    }
   ],
   "source": [
    "# attribute coef_ -> coefficient (slop)\n",
    "good_googModel.coef_"
   ]
  },
  {
   "cell_type": "code",
   "execution_count": 41,
   "metadata": {},
   "outputs": [
    {
     "data": {
      "text/plain": [
       "0.04952870353888754"
      ]
     },
     "execution_count": 41,
     "metadata": {},
     "output_type": "execute_result"
    }
   ],
   "source": [
    "#intercept\n",
    "good_googModel.intercept_"
   ]
  },
  {
   "cell_type": "code",
   "execution_count": 43,
   "metadata": {},
   "outputs": [
    {
     "data": {
      "text/plain": [
       "6.478972684984468"
      ]
     },
     "execution_count": 43,
     "metadata": {},
     "output_type": "execute_result"
    }
   ],
   "source": [
    "# residuals\n",
    "good_googModel._residues"
   ]
  },
  {
   "cell_type": "code",
   "execution_count": 44,
   "metadata": {},
   "outputs": [],
   "source": [
    "import matplotlib.pyplot as plt"
   ]
  },
  {
   "cell_type": "code",
   "execution_count": 48,
   "metadata": {},
   "outputs": [
    {
     "data": {
      "text/plain": [
       "[<matplotlib.lines.Line2D at 0x1a1a502a20>]"
      ]
     },
     "execution_count": 48,
     "metadata": {},
     "output_type": "execute_result"
    },
    {
     "data": {
      "image/png": "[encoded data removed]",
      "text/plain": [
       "<Figure size 432x288 with 1 Axes>"
      ]
     },
     "metadata": {},
     "output_type": "display_data"
    }
   ],
   "source": [
    "plt.scatter(xData, yData, color = \"black\")\n",
    "plt.plot(xData, good_googModel.predict(xData), color = \"red\", linewidth = 3)"
   ]
  },
  {
   "cell_type": "code",
   "execution_count": null,
   "metadata": {},
   "outputs": [],
   "source": []
  }
 ],
 "metadata": {
  "kernelspec": {
   "display_name": "Python 3",
   "language": "python",
   "name": "python3"
  },
  "language_info": {
   "codemirror_mode": {
    "name": "ipython",
    "version": 3
   },
   "file_extension": ".py",
   "mimetype": "text/x-python",
   "name": "python",
   "nbconvert_exporter": "python",
   "pygments_lexer": "ipython3",
   "version": "3.6.5"
  }
 },
 "nbformat": 4,
 "nbformat_minor": 2
}
